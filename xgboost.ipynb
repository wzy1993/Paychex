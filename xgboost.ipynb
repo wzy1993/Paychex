{
 "cells": [
  {
   "cell_type": "code",
   "execution_count": 27,
   "metadata": {},
   "outputs": [],
   "source": [
    "import pandas as pd \n",
    "import numpy as np\n",
    "import matplotlib.pyplot as plt\n",
    "\n",
    "#from sklearn import datasets\n",
    "#from sklearn.decomposition import PCA\n",
    "from sklearn.discriminant_analysis import LinearDiscriminantAnalysis\n",
    "from IPython.display import set_matplotlib_formats\n",
    "set_matplotlib_formats('retina')\n",
    "\n",
    "import seaborn as sns\n",
    "import matplotlib.pyplot as plt\n",
    "import matplotlib\n",
    "\n",
    "from xgboost import XGBClassifier\n",
    "import xgboost as xgb\n",
    "\n",
    "from sklearn.metrics import f1_score,recall_score,accuracy_score,precision_score\n",
    "from sklearn.metrics import roc_auc_score\n",
    "from sklearn.model_selection import cross_val_score\n",
    "from sklearn.metrics import classification_report\n",
    "\n",
    "from sklearn.model_selection import StratifiedKFold\n",
    "\n",
    "#from sklearn.cluster import KMeans\n",
    "\n",
    "pd.set_option('display.max_columns', None)\n",
    "pd.set_option('display.max_rows', None)\n",
    "\n",
    "from fancyimpute import KNN "
   ]
  },
  {
   "cell_type": "code",
   "execution_count": 2,
   "metadata": {},
   "outputs": [],
   "source": [
    "df = pd.read_csv('total1112.csv')"
   ]
  },
  {
   "cell_type": "code",
   "execution_count": 3,
   "metadata": {},
   "outputs": [
    {
     "data": {
      "text/plain": [
       "(37515, 133)"
      ]
     },
     "execution_count": 3,
     "metadata": {},
     "output_type": "execute_result"
    }
   ],
   "source": [
    "df.shape"
   ]
  },
  {
   "cell_type": "code",
   "execution_count": 4,
   "metadata": {},
   "outputs": [
    {
     "data": {
      "text/plain": [
       "Index(['Pseudo_ClientID', 'day_counts_max', 'day_counts_min',\n",
       "       'day_counts_mean', 'day_counts_count', 'day_counts_std', 'Issue_YN',\n",
       "       'weekday_Monday', 'weekday_Tuesday', 'weekday_Wednesday',\n",
       "       ...\n",
       "       'JOB_COUNT', 'LOCATION_COUNT', 'ORG_UNIT_COUNT', 'PAYRUN_COUNT',\n",
       "       'PAY_PERIOD_COUNT', 'POSITION_COUNT', 'WRKR_PAY_COMP_AVG',\n",
       "       'WRKR_TAX_AVG', 'NULL_COUNT', 'knn_label'],\n",
       "      dtype='object', length=133)"
      ]
     },
     "execution_count": 4,
     "metadata": {},
     "output_type": "execute_result"
    }
   ],
   "source": [
    "df.columns"
   ]
  },
  {
   "cell_type": "code",
   "execution_count": 5,
   "metadata": {},
   "outputs": [
    {
     "data": {
      "text/plain": [
       "17.08823529411765"
      ]
     },
     "execution_count": 5,
     "metadata": {},
     "output_type": "execute_result"
    }
   ],
   "source": [
    "len(df[df['Issue_YN']==0])/len(df[df['Issue_YN']==1])"
   ]
  },
  {
   "cell_type": "code",
   "execution_count": 6,
   "metadata": {},
   "outputs": [],
   "source": [
    "dtrain_1=xgb.DMatrix(df.drop(['Pseudo_ClientID','Issue_YN'],axis = 1),label=df['Issue_YN'])"
   ]
  },
  {
   "cell_type": "code",
   "execution_count": 31,
   "metadata": {
    "scrolled": false
   },
   "outputs": [],
   "source": [
    "def evalerror_f1(preds, dtrain):\n",
    "    labels = dtrain.get_label()\n",
    "    # return a pair metric_name, result. The metric name must not contain a colon (:) or a space\n",
    "    # since preds are margin(before logistic transformation, cutoff at 0)\n",
    "    y_bin = [1. if y_cont > 0.5 else 0. for y_cont in preds]\n",
    "    #print(labels)\n",
    "    #print(preds)\n",
    "    #print(int(1))\n",
    "    return 'f1-score', f1_score(labels, y_bin)\n",
    "\n",
    "def evalerror_recall(preds, dtrain):\n",
    "    labels = dtrain.get_label()\n",
    "    # return a pair metric_name, result. The metric name must not contain a colon (:) or a space\n",
    "    # since preds are margin(before logistic transformation, cutoff at 0)\n",
    "    y_bin = [1. if y_cont > 0.5 else 0. for y_cont in preds]\n",
    "    #print(labels)\n",
    "    #print(preds)\n",
    "    #print(int(1))\n",
    "    return 'Recall_score', recall_score(labels, y_bin)\n",
    "\n",
    "def evalerror_accuracy(preds, dtrain):\n",
    "    labels = dtrain.get_label()\n",
    "    # return a pair metric_name, result. The metric name must not contain a colon (:) or a space\n",
    "    # since preds are margin(before logistic transformation, cutoff at 0)\n",
    "    y_bin = [1. if y_cont > 0.5 else 0. for y_cont in preds]\n",
    "    #print(labels)\n",
    "    #print(preds)\n",
    "    #print(int(1))\n",
    "    return 'Accuracy', accuracy_score(labels, y_bin)\n",
    "\n",
    "\n",
    "def evalerror_precision(preds, dtrain):\n",
    "    labels = dtrain.get_label()\n",
    "    # return a pair metric_name, result. The metric name must not contain a colon (:) or a space\n",
    "    # since preds are margin(before logistic transformation, cutoff at 0)\n",
    "    y_bin = [1. if y_cont > 0.5 else 0. for y_cont in preds]\n",
    "    #print(labels)\n",
    "    #print(preds)\n",
    "    #print(int(1))\n",
    "    return 'precision_score', precision_score(labels, y_bin)\n",
    "\n",
    "\n",
    "argsDict={\"max_depth\" : 10,\n",
    "          \"subsample\" : 0.5,\n",
    "          \"min_child_weight\" : 1,\n",
    "          \"gamma\" : 0.5,\n",
    "          \"reg_lambda\" : 0.1,\n",
    "          \"colsample_bytree\" : 0.5,\n",
    "          \"n_estimators\" : 500,\n",
    "          #\"eval_metric\" : 'aucpr',\n",
    "          \"feval\" : evalerror,\n",
    "          \"nthread\" : 22\n",
    "          \n",
    "}\n",
    "\n",
    "\n",
    "cv_results_f1=xgb.cv(\n",
    "    argsDict,\n",
    "    dtrain_1,\n",
    "    num_boost_round=800,\n",
    "    nfold=5,\n",
    "    #metrics='aucpr',\n",
    "    feval=evalerror_f1,\n",
    "    early_stopping_rounds=50,\n",
    "    verbose_eval=False,\n",
    "    seed=1)\n",
    "\n",
    "cv_results_recall=xgb.cv(\n",
    "    argsDict,\n",
    "    dtrain_1,\n",
    "    num_boost_round=800,\n",
    "    nfold=5,\n",
    "    #metrics='aucpr',\n",
    "    feval=evalerror_recall,\n",
    "    early_stopping_rounds=50,\n",
    "    verbose_eval=False,\n",
    "    seed=1)\n",
    "\n",
    "cv_results_accuracy=xgb.cv(\n",
    "    argsDict,\n",
    "    dtrain_1,\n",
    "    num_boost_round=800,\n",
    "    nfold=5,\n",
    "    #metrics='aucpr',\n",
    "    feval=evalerror_accuracy,\n",
    "    early_stopping_rounds=50,\n",
    "    verbose_eval=False,\n",
    "    seed=1)\n",
    "\n",
    "cv_results_precision=xgb.cv(\n",
    "    argsDict,\n",
    "    dtrain_1,\n",
    "    num_boost_round=800,\n",
    "    nfold=5,\n",
    "    #metrics='aucpr',\n",
    "    feval=evalerror_precision,\n",
    "    early_stopping_rounds=50,\n",
    "    verbose_eval=False,\n",
    "    seed=1)"
   ]
  },
  {
   "cell_type": "code",
   "execution_count": 9,
   "metadata": {},
   "outputs": [],
   "source": [
    "cv_results_auc=xgb.cv(\n",
    "    argsDict,\n",
    "    dtrain_1,\n",
    "    num_boost_round=800,\n",
    "    nfold=5,\n",
    "    metrics='auc',\n",
    "    #feval=evalerror,\n",
    "    early_stopping_rounds=50,\n",
    "    verbose_eval=False,\n",
    "    seed=1)"
   ]
  },
  {
   "cell_type": "code",
   "execution_count": 57,
   "metadata": {},
   "outputs": [
    {
     "data": {
      "text/plain": [
       "0.43460400000000005"
      ]
     },
     "execution_count": 57,
     "metadata": {},
     "output_type": "execute_result"
    }
   ],
   "source": [
    "cv_results_recall['test-Recall_score-mean'].max()"
   ]
  },
  {
   "cell_type": "code",
   "execution_count": 51,
   "metadata": {},
   "outputs": [
    {
     "data": {
      "text/plain": [
       "0.9503132000000001"
      ]
     },
     "execution_count": 51,
     "metadata": {},
     "output_type": "execute_result"
    }
   ],
   "source": [
    "cv_results_accuracy['test-Accuracy-mean'].max()"
   ]
  },
  {
   "cell_type": "code",
   "execution_count": 49,
   "metadata": {},
   "outputs": [
    {
     "data": {
      "text/plain": [
       "0.5689366"
      ]
     },
     "execution_count": 49,
     "metadata": {},
     "output_type": "execute_result"
    }
   ],
   "source": [
    "cv_results_precision['test-precision_score-mean'].max()"
   ]
  },
  {
   "cell_type": "code",
   "execution_count": 46,
   "metadata": {},
   "outputs": [
    {
     "data": {
      "text/plain": [
       "0.9054401999999999"
      ]
     },
     "execution_count": 46,
     "metadata": {},
     "output_type": "execute_result"
    }
   ],
   "source": [
    "cv_results_auc['test-auc-mean'].max()"
   ]
  },
  {
   "cell_type": "code",
   "execution_count": 57,
   "metadata": {},
   "outputs": [
    {
     "data": {
      "text/plain": [
       "0.4815932"
      ]
     },
     "execution_count": 57,
     "metadata": {},
     "output_type": "execute_result"
    }
   ],
   "source": [
    "cv_results[\"test-f1-score-mean\"].max()"
   ]
  },
  {
   "cell_type": "markdown",
   "metadata": {},
   "source": [
    "# using Scale_pos_weight"
   ]
  },
  {
   "cell_type": "code",
   "execution_count": 58,
   "metadata": {},
   "outputs": [],
   "source": [
    "def evalerror_f1(preds, dtrain):\n",
    "    labels = dtrain.get_label()\n",
    "    # return a pair metric_name, result. The metric name must not contain a colon (:) or a space\n",
    "    # since preds are margin(before logistic transformation, cutoff at 0)\n",
    "    y_bin = [1. if y_cont > 0.5 else 0. for y_cont in preds]\n",
    "    #print(labels)\n",
    "    #print(preds)\n",
    "    #print(int(1))\n",
    "    return 'f1-score', f1_score(labels, y_bin)\n",
    "\n",
    "def evalerror_recall(preds, dtrain):\n",
    "    labels = dtrain.get_label()\n",
    "    # return a pair metric_name, result. The metric name must not contain a colon (:) or a space\n",
    "    # since preds are margin(before logistic transformation, cutoff at 0)\n",
    "    y_bin = [1. if y_cont > 0.5 else 0. for y_cont in preds]\n",
    "    #print(labels)\n",
    "    #print(preds)\n",
    "    #print(int(1))\n",
    "    return 'Recall_score', recall_score(labels, y_bin)\n",
    "\n",
    "def evalerror_accuracy(preds, dtrain):\n",
    "    labels = dtrain.get_label()\n",
    "    # return a pair metric_name, result. The metric name must not contain a colon (:) or a space\n",
    "    # since preds are margin(before logistic transformation, cutoff at 0)\n",
    "    y_bin = [1. if y_cont > 0.5 else 0. for y_cont in preds]\n",
    "    #print(labels)\n",
    "    #print(preds)\n",
    "    #print(int(1))\n",
    "    return 'Accuracy', accuracy_score(labels, y_bin)\n",
    "\n",
    "\n",
    "def evalerror_precision(preds, dtrain):\n",
    "    labels = dtrain.get_label()\n",
    "    # return a pair metric_name, result. The metric name must not contain a colon (:) or a space\n",
    "    # since preds are margin(before logistic transformation, cutoff at 0)\n",
    "    y_bin = [1. if y_cont > 0.5 else 0. for y_cont in preds]\n",
    "    #print(labels)\n",
    "    #print(preds)\n",
    "    #print(int(1))\n",
    "    return 'precision_score', precision_score(labels, y_bin)\n",
    "\n",
    "argsDict={\"max_depth\" : 14,\n",
    "          \"subsample\" : 0.5,\n",
    "          \"min_child_weight\" : 1,\n",
    "          \"gamma\" : 0.5,\n",
    "          \"reg_lambda\" : 0.1,\n",
    "          \"colsample_bytree\" : 0.5,\n",
    "          \"n_estimators\" : 800,\n",
    "          #\"eval_metric\" : 'aucpr',\n",
    "          \"feval\" : evalerror,\n",
    "          \"nthread\" : 22,\n",
    "          \"scale_pos_weight\" : 17.08823529411765         \n",
    "}\n",
    "\n",
    "\n",
    "\n",
    "cv_results_f1=xgb.cv(\n",
    "    argsDict,\n",
    "    dtrain_1,\n",
    "    num_boost_round=800,\n",
    "    nfold=5,\n",
    "    #metrics='aucpr',\n",
    "    feval=evalerror_f1,\n",
    "    early_stopping_rounds=50,\n",
    "    verbose_eval=False,\n",
    "    seed=1)\n",
    "\n",
    "cv_results_recall=xgb.cv(\n",
    "    argsDict,\n",
    "    dtrain_1,\n",
    "    num_boost_round=800,\n",
    "    nfold=5,\n",
    "    #metrics='aucpr',\n",
    "    feval=evalerror_recall,\n",
    "    early_stopping_rounds=50,\n",
    "    verbose_eval=False,\n",
    "    seed=1)\n",
    "\n",
    "cv_results_accuracy=xgb.cv(\n",
    "    argsDict,\n",
    "    dtrain_1,\n",
    "    num_boost_round=800,\n",
    "    nfold=5,\n",
    "    #metrics='aucpr',\n",
    "    feval=evalerror_accuracy,\n",
    "    early_stopping_rounds=50,\n",
    "    verbose_eval=False,\n",
    "    seed=1)\n",
    "\n",
    "cv_results_precision=xgb.cv(\n",
    "    argsDict,\n",
    "    dtrain_1,\n",
    "    num_boost_round=800,\n",
    "    nfold=5,\n",
    "    #metrics='aucpr',\n",
    "    feval=evalerror_precision,\n",
    "    early_stopping_rounds=50,\n",
    "    verbose_eval=False,\n",
    "    seed=1)"
   ]
  },
  {
   "cell_type": "code",
   "execution_count": 62,
   "metadata": {},
   "outputs": [],
   "source": [
    "cv_results_auc=xgb.cv(\n",
    "    argsDict,\n",
    "    dtrain_1,\n",
    "    num_boost_round=800,\n",
    "    nfold=5,\n",
    "    metrics='auc',\n",
    "    #feval=evalerror,\n",
    "    early_stopping_rounds=50,\n",
    "    verbose_eval=False,\n",
    "    seed=1)"
   ]
  },
  {
   "cell_type": "code",
   "execution_count": 63,
   "metadata": {},
   "outputs": [
    {
     "data": {
      "text/html": [
       "<div>\n",
       "<style scoped>\n",
       "    .dataframe tbody tr th:only-of-type {\n",
       "        vertical-align: middle;\n",
       "    }\n",
       "\n",
       "    .dataframe tbody tr th {\n",
       "        vertical-align: top;\n",
       "    }\n",
       "\n",
       "    .dataframe thead th {\n",
       "        text-align: right;\n",
       "    }\n",
       "</style>\n",
       "<table border=\"1\" class=\"dataframe\">\n",
       "  <thead>\n",
       "    <tr style=\"text-align: right;\">\n",
       "      <th></th>\n",
       "      <th>train-auc-mean</th>\n",
       "      <th>train-auc-std</th>\n",
       "      <th>test-auc-mean</th>\n",
       "      <th>test-auc-std</th>\n",
       "    </tr>\n",
       "  </thead>\n",
       "  <tbody>\n",
       "    <tr>\n",
       "      <th>0</th>\n",
       "      <td>0.951743</td>\n",
       "      <td>0.000973</td>\n",
       "      <td>0.922211</td>\n",
       "      <td>0.003857</td>\n",
       "    </tr>\n",
       "  </tbody>\n",
       "</table>\n",
       "</div>"
      ],
      "text/plain": [
       "   train-auc-mean  train-auc-std  test-auc-mean  test-auc-std\n",
       "0        0.951743       0.000973       0.922211      0.003857"
      ]
     },
     "execution_count": 63,
     "metadata": {},
     "output_type": "execute_result"
    }
   ],
   "source": [
    "cv_results_auc"
   ]
  },
  {
   "cell_type": "code",
   "execution_count": 59,
   "metadata": {},
   "outputs": [
    {
     "data": {
      "text/plain": [
       "0.448406"
      ]
     },
     "execution_count": 59,
     "metadata": {},
     "output_type": "execute_result"
    }
   ],
   "source": [
    "cv_results_precision['test-precision_score-mean'].max()"
   ]
  },
  {
   "cell_type": "code",
   "execution_count": 60,
   "metadata": {},
   "outputs": [
    {
     "data": {
      "text/plain": [
       "0.9364253999999999"
      ]
     },
     "execution_count": 60,
     "metadata": {},
     "output_type": "execute_result"
    }
   ],
   "source": [
    "cv_results_accuracy['test-Accuracy-mean'].max()"
   ]
  },
  {
   "cell_type": "code",
   "execution_count": 61,
   "metadata": {},
   "outputs": [
    {
     "data": {
      "text/plain": [
       "0.5305806000000001"
      ]
     },
     "execution_count": 61,
     "metadata": {},
     "output_type": "execute_result"
    }
   ],
   "source": [
    "cv_results_f1[\"test-f1-score-mean\"].max()"
   ]
  },
  {
   "cell_type": "code",
   "execution_count": 44,
   "metadata": {},
   "outputs": [
    {
     "data": {
      "text/plain": [
       "0.43460400000000005"
      ]
     },
     "execution_count": 44,
     "metadata": {},
     "output_type": "execute_result"
    }
   ],
   "source": [
    "cv_results_recall['test-Recall_score-mean'].max()"
   ]
  },
  {
   "cell_type": "markdown",
   "metadata": {},
   "source": [
    "# using Dmatrix to assign weight to samples"
   ]
  },
  {
   "cell_type": "code",
   "execution_count": null,
   "metadata": {},
   "outputs": [],
   "source": [
    "dtrain_1=xgb.DMatrix(df.drop(['Pseudo_ClientID','Issue_YN'],axis = 1),label=df['Issue_YN'],)"
   ]
  },
  {
   "cell_type": "code",
   "execution_count": null,
   "metadata": {},
   "outputs": [],
   "source": []
  },
  {
   "cell_type": "code",
   "execution_count": null,
   "metadata": {},
   "outputs": [],
   "source": []
  },
  {
   "cell_type": "code",
   "execution_count": null,
   "metadata": {},
   "outputs": [],
   "source": []
  },
  {
   "cell_type": "code",
   "execution_count": null,
   "metadata": {},
   "outputs": [],
   "source": []
  },
  {
   "cell_type": "code",
   "execution_count": null,
   "metadata": {},
   "outputs": [],
   "source": []
  },
  {
   "cell_type": "markdown",
   "metadata": {},
   "source": [
    "# Feature importance"
   ]
  },
  {
   "cell_type": "code",
   "execution_count": 65,
   "metadata": {},
   "outputs": [
    {
     "data": {
      "text/plain": [
       "XGBClassifier(base_score=0.5, booster='gbtree', colsample_bylevel=1,\n",
       "       colsample_bytree=0.5, feval=<function evalerror at 0x2b55c1e95d08>,\n",
       "       gamma=0.5, learning_rate=0.1, max_delta_step=0, max_depth=14,\n",
       "       min_child_weight=1, missing=None, n_estimators=800, n_jobs=1,\n",
       "       nthread=22, objective='binary:logistic', random_state=0,\n",
       "       reg_alpha=0, reg_lambda=0.1, scale_pos_weight=17.08823529411765,\n",
       "       seed=None, silent=True, subsample=0.5)"
      ]
     },
     "execution_count": 65,
     "metadata": {},
     "output_type": "execute_result"
    }
   ],
   "source": [
    "xgboost = xgb.XGBClassifier(max_depth= 14,\n",
    "          subsample= 0.5,\n",
    "          min_child_weight=1,\n",
    "          gamma=0.5,\n",
    "          reg_lambda=0.1,\n",
    "          colsample_bytree=0.5,\n",
    "          n_estimators= 800,\n",
    "          #\"eval_metric\" : 'aucpr',\n",
    "          feval= evalerror,\n",
    "          nthread= 22,\n",
    "          scale_pos_weight= 17.08823529411765  )\n",
    "\n",
    "xgboost.fit(df.drop(['Pseudo_ClientID','Issue_YN'],axis = 1),df['Issue_YN'])"
   ]
  },
  {
   "cell_type": "code",
   "execution_count": 66,
   "metadata": {},
   "outputs": [],
   "source": [
    "feature_list = df.drop(['Pseudo_ClientID','Issue_YN'],axis = 1).columns\n",
    "feature_list_dict = dict(zip(feature_list,np.log1p(xgboost.feature_importances_)))"
   ]
  },
  {
   "cell_type": "code",
   "execution_count": 67,
   "metadata": {},
   "outputs": [],
   "source": [
    "importances = pd.DataFrame()\n",
    "importances['Feature'] = feature_list\n",
    "importances['Importance'] = np.log1p(xgboost.feature_importances_)"
   ]
  },
  {
   "cell_type": "code",
   "execution_count": 68,
   "metadata": {},
   "outputs": [
    {
     "data": {
      "text/html": [
       "<div>\n",
       "<style scoped>\n",
       "    .dataframe tbody tr th:only-of-type {\n",
       "        vertical-align: middle;\n",
       "    }\n",
       "\n",
       "    .dataframe tbody tr th {\n",
       "        vertical-align: top;\n",
       "    }\n",
       "\n",
       "    .dataframe thead th {\n",
       "        text-align: right;\n",
       "    }\n",
       "</style>\n",
       "<table border=\"1\" class=\"dataframe\">\n",
       "  <thead>\n",
       "    <tr style=\"text-align: right;\">\n",
       "      <th></th>\n",
       "      <th>Feature</th>\n",
       "      <th>Importance</th>\n",
       "    </tr>\n",
       "  </thead>\n",
       "  <tbody>\n",
       "    <tr>\n",
       "      <th>130</th>\n",
       "      <td>knn_label</td>\n",
       "      <td>0.000054</td>\n",
       "    </tr>\n",
       "  </tbody>\n",
       "</table>\n",
       "</div>"
      ],
      "text/plain": [
       "       Feature  Importance\n",
       "130  knn_label    0.000054"
      ]
     },
     "execution_count": 68,
     "metadata": {},
     "output_type": "execute_result"
    }
   ],
   "source": [
    "importances[importances['Feature']=='knn_label']"
   ]
  },
  {
   "cell_type": "code",
   "execution_count": 71,
   "metadata": {},
   "outputs": [
    {
     "data": {
      "image/png": "[encoded data removed]",
      "text/plain": [
       "<Figure size 576x576 with 1 Axes>"
      ]
     },
     "metadata": {
      "image/png": {
       "height": 481,
       "width": 596
      }
     },
     "output_type": "display_data"
    }
   ],
   "source": [
    "import warnings\n",
    "warnings.simplefilter('ignore', FutureWarning)\n",
    "\n",
    "# 这句话就没有用到过啊！！！！！！没有用到过\"gain_log\"\n",
    "#importances['gain_log'] = np.log1p(importances['gain'])\n",
    "#mean_gain = importances[['gain', 'feature']].groupby('feature').mean()\n",
    "#importances['mean_gain'] = importances['feature'].map(mean_gain['gain'])\n",
    "\n",
    "plt.figure(figsize=(8, 8))\n",
    "sns.barplot(x='Importance', y='Feature', data=importances.sort_values('Importance', ascending=False)[:20])\n",
    "plt.show()"
   ]
  },
  {
   "cell_type": "code",
   "execution_count": null,
   "metadata": {},
   "outputs": [],
   "source": []
  }
 ],
 "metadata": {
  "kernelspec": {
   "display_name": "Python 3 (anaconda3 5.2.0)",
   "language": "python",
   "name": "anaconda3"
  },
  "language_info": {
   "codemirror_mode": {
    "name": "ipython",
    "version": 3
   },
   "file_extension": ".py",
   "mimetype": "text/x-python",
   "name": "python",
   "nbconvert_exporter": "python",
   "pygments_lexer": "ipython3",
   "version": "3.6.5"
  }
 },
 "nbformat": 4,
 "nbformat_minor": 2
}
